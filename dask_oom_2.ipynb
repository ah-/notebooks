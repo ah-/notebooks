{
 "cells": [
  {
   "cell_type": "code",
   "execution_count": 1,
   "metadata": {},
   "outputs": [],
   "source": [
    "import s3fs\n",
    "import dask\n",
    "from dask import delayed\n",
    "from dask.distributed import Client, LocalCluster, progress, fire_and_forget"
   ]
  },
  {
   "cell_type": "code",
   "execution_count": 2,
   "metadata": {},
   "outputs": [
    {
     "data": {
      "application/vnd.jupyter.widget-view+json": {
       "model_id": "adde48df4cd14efc8cb9d742f0142561",
       "version_major": 2,
       "version_minor": 0
      },
      "text/html": [
       "<p>Failed to display Jupyter Widget of type <code>VBox</code>.</p>\n",
       "<p>\n",
       "  If you're reading this message in the Jupyter Notebook or JupyterLab Notebook, it may mean\n",
       "  that the widgets JavaScript is still loading. If this message persists, it\n",
       "  likely means that the widgets JavaScript library is either not installed or\n",
       "  not enabled. See the <a href=\"https://ipywidgets.readthedocs.io/en/stable/user_install.html\">Jupyter\n",
       "  Widgets Documentation</a> for setup instructions.\n",
       "</p>\n",
       "<p>\n",
       "  If you're reading this message in another frontend (for example, a static\n",
       "  rendering on GitHub or <a href=\"https://nbviewer.jupyter.org/\">NBViewer</a>),\n",
       "  it may mean that your frontend doesn't currently support widgets.\n",
       "</p>\n"
      ],
      "text/plain": [
       "VBox(children=(HTML(value='<h2>LocalCluster</h2>'), HBox(children=(HTML(value='\\n<div>\\n  <style scoped>\\n    .dataframe tbody tr th:only-of-type {\\n        vertical-align: middle;\\n    }\\n\\n    .dataframe tbody tr th {\\n        vertical-align: top;\\n    }\\n\\n    .dataframe thead th {\\n        text-align: right;\\n    }\\n  </style>\\n  <table style=\"text-align: right;\">\\n    <tr><th>Workers</th> <td>1</td></tr>\\n    <tr><th>Cores</th> <td>1</td></tr>\\n    <tr><th>Memory</th> <td>2.15 GB</td></tr>\\n  </table>\\n</div>\\n', layout=Layout(min_width='150px')), Accordion(children=(HBox(children=(IntText(value=0, description='Workers', layout=Layout(width='150px')), Button(description='Scale', layout=Layout(width='150px'), style=ButtonStyle()))), HBox(children=(IntText(value=0, description='Minimum', layout=Layout(width='150px')), IntText(value=0, description='Maximum', layout=Layout(width='150px')), Button(description='Adapt', layout=Layout(width='150px'), style=ButtonStyle())))), layout=Layout(min_width='500px'), selected_index=None, _titles={'0': 'Manual Scaling', '1': 'Adaptive Scaling'}))), HTML(value='<p><b>Dashboard: </b><a href=\"http://127.0.0.1:57639/status\" target=\"_blank\">http://127.0.0.1:57639/status</a></p>\\n')))"
      ]
     },
     "metadata": {},
     "output_type": "display_data"
    }
   ],
   "source": [
    "cluster = LocalCluster(n_workers=1, threads_per_worker=1)\n",
    "client = Client(cluster)\n",
    "cluster"
   ]
  },
  {
   "cell_type": "code",
   "execution_count": 3,
   "metadata": {},
   "outputs": [],
   "source": [
    "class S3FsWrapper(object):\n",
    "    def __init__(self):\n",
    "        self.fs = s3fs.S3FileSystem()\n",
    "    def get_s3fs(self):\n",
    "        return self.fs"
   ]
  },
  {
   "cell_type": "code",
   "execution_count": 4,
   "metadata": {},
   "outputs": [],
   "source": [
    "fs = S3FsWrapper()"
   ]
  },
  {
   "cell_type": "code",
   "execution_count": 5,
   "metadata": {},
   "outputs": [
    {
     "name": "stderr",
     "output_type": "stream",
     "text": [
      "distributed.core - WARNING - Event loop was unresponsive in Scheduler for 1.14s.  This is often caused by long-running GIL-holding functions or moving large chunks of data. This can cause timeouts and instability.\n",
      "distributed.core - WARNING - Event loop was unresponsive in Nanny for 1.16s.  This is often caused by long-running GIL-holding functions or moving large chunks of data. This can cause timeouts and instability.\n",
      "distributed.core - WARNING - Event loop was unresponsive in Nanny for 7.32s.  This is often caused by long-running GIL-holding functions or moving large chunks of data. This can cause timeouts and instability.\n",
      "distributed.core - WARNING - Event loop was unresponsive in Scheduler for 7.32s.  This is often caused by long-running GIL-holding functions or moving large chunks of data. This can cause timeouts and instability.\n"
     ]
    },
    {
     "name": "stdout",
     "output_type": "stream",
     "text": [
      "CPU times: user 2min 16s, sys: 3.39 s, total: 2min 19s\n",
      "Wall time: 2min 18s\n"
     ]
    },
    {
     "name": "stderr",
     "output_type": "stream",
     "text": [
      "distributed.nanny - WARNING - Worker exceeded 95% memory budget.  Restarting\n",
      "tornado.application - ERROR - Exception in callback <bound method Nanny.memory_monitor of <Nanny: tcp://127.0.0.1:57641, threads: 1>>\n",
      "Traceback (most recent call last):\n",
      "  File \"/Users/andreas/anaconda3/lib/python3.6/site-packages/psutil/_psosx.py\", line 348, in catch_zombie\n",
      "    yield\n",
      "  File \"/Users/andreas/anaconda3/lib/python3.6/site-packages/psutil/_psosx.py\", line 387, in _get_pidtaskinfo\n",
      "    ret = cext.proc_pidtaskinfo_oneshot(self.pid)\n",
      "ProcessLookupError: [Errno 3] No such process\n",
      "\n",
      "During handling of the above exception, another exception occurred:\n",
      "\n",
      "Traceback (most recent call last):\n",
      "  File \"/Users/andreas/anaconda3/lib/python3.6/site-packages/tornado/ioloop.py\", line 1026, in _run\n",
      "    return self.callback()\n",
      "  File \"/Users/andreas/tmp/distributed/distributed/nanny.py\", line 254, in memory_monitor\n",
      "    memory = psutil.Process(self.process.pid).memory_info().rss\n",
      "  File \"/Users/andreas/anaconda3/lib/python3.6/site-packages/psutil/_common.py\", line 337, in wrapper\n",
      "    return fun(self)\n",
      "  File \"/Users/andreas/anaconda3/lib/python3.6/site-packages/psutil/__init__.py\", line 1049, in memory_info\n",
      "    return self._proc.memory_info()\n",
      "  File \"/Users/andreas/anaconda3/lib/python3.6/site-packages/psutil/_psosx.py\", line 330, in wrapper\n",
      "    return fun(self, *args, **kwargs)\n",
      "  File \"/Users/andreas/anaconda3/lib/python3.6/site-packages/psutil/_psosx.py\", line 456, in memory_info\n",
      "    rawtuple = self._get_pidtaskinfo()\n",
      "  File \"/Users/andreas/anaconda3/lib/python3.6/site-packages/psutil/_common.py\", line 337, in wrapper\n",
      "    return fun(self)\n",
      "  File \"/Users/andreas/anaconda3/lib/python3.6/site-packages/psutil/_psosx.py\", line 387, in _get_pidtaskinfo\n",
      "    ret = cext.proc_pidtaskinfo_oneshot(self.pid)\n",
      "  File \"/Users/andreas/anaconda3/lib/python3.6/contextlib.py\", line 99, in __exit__\n",
      "    self.gen.throw(type, value, traceback)\n",
      "  File \"/Users/andreas/anaconda3/lib/python3.6/site-packages/psutil/_psosx.py\", line 361, in catch_zombie\n",
      "    raise AccessDenied(proc.pid, proc._name)\n",
      "psutil._exceptions.AccessDenied: psutil.AccessDenied (pid=15839)\n",
      "distributed.nanny - WARNING - Worker process 15839 was killed by unknown signal\n",
      "distributed.core - WARNING - Event loop was unresponsive in Nanny for 1.55s.  This is often caused by long-running GIL-holding functions or moving large chunks of data. This can cause timeouts and instability.\n",
      "distributed.core - WARNING - Event loop was unresponsive in Scheduler for 1.55s.  This is often caused by long-running GIL-holding functions or moving large chunks of data. This can cause timeouts and instability.\n",
      "distributed.nanny - WARNING - Restarting worker\n",
      "distributed.core - WARNING - Event loop was unresponsive in Nanny for 3.79s.  This is often caused by long-running GIL-holding functions or moving large chunks of data. This can cause timeouts and instability.\n",
      "distributed.core - WARNING - Event loop was unresponsive in Scheduler for 3.79s.  This is often caused by long-running GIL-holding functions or moving large chunks of data. This can cause timeouts and instability.\n",
      "distributed.scheduler - ERROR - Failed to connect to worker 'tcp://127.0.0.1:57659': Timed out trying to connect to 'tcp://127.0.0.1:57659' after 3.0 s: connect() didn't finish in time\n",
      "distributed.core - WARNING - Event loop was unresponsive in Nanny for 1.47s.  This is often caused by long-running GIL-holding functions or moving large chunks of data. This can cause timeouts and instability.\n",
      "distributed.core - WARNING - Event loop was unresponsive in Scheduler for 1.47s.  This is often caused by long-running GIL-holding functions or moving large chunks of data. This can cause timeouts and instability.\n",
      "distributed.core - WARNING - Event loop was unresponsive in Scheduler for 3.65s.  This is often caused by long-running GIL-holding functions or moving large chunks of data. This can cause timeouts and instability.\n",
      "distributed.core - WARNING - Event loop was unresponsive in Nanny for 3.66s.  This is often caused by long-running GIL-holding functions or moving large chunks of data. This can cause timeouts and instability.\n",
      "distributed.scheduler - ERROR - Failed to connect to worker 'tcp://127.0.0.1:57659': Timed out trying to connect to 'tcp://127.0.0.1:57659' after 3.0 s: connect() didn't finish in time\n",
      "distributed.core - WARNING - Event loop was unresponsive in Nanny for 1.50s.  This is often caused by long-running GIL-holding functions or moving large chunks of data. This can cause timeouts and instability.\n",
      "distributed.core - WARNING - Event loop was unresponsive in Scheduler for 1.50s.  This is often caused by long-running GIL-holding functions or moving large chunks of data. This can cause timeouts and instability.\n",
      "distributed.core - WARNING - Event loop was unresponsive in Nanny for 3.61s.  This is often caused by long-running GIL-holding functions or moving large chunks of data. This can cause timeouts and instability.\n",
      "distributed.core - WARNING - Event loop was unresponsive in Scheduler for 3.61s.  This is often caused by long-running GIL-holding functions or moving large chunks of data. This can cause timeouts and instability.\n",
      "distributed.scheduler - ERROR - Failed to connect to worker 'tcp://127.0.0.1:57659': Timed out trying to connect to 'tcp://127.0.0.1:57659' after 3.0 s: connect() didn't finish in time\n",
      "distributed.core - WARNING - Event loop was unresponsive in Nanny for 2.81s.  This is often caused by long-running GIL-holding functions or moving large chunks of data. This can cause timeouts and instability.\n",
      "distributed.core - WARNING - Event loop was unresponsive in Scheduler for 2.81s.  This is often caused by long-running GIL-holding functions or moving large chunks of data. This can cause timeouts and instability.\n"
     ]
    }
   ],
   "source": [
    "%%time \n",
    "def fun(fs, x):\n",
    "    return x + 1\n",
    "tasks = [delayed(fun)(fs, i) for i in range(100000)]\n",
    "fire_and_forget(client.compute(tasks))\n",
    "\n",
    "while len(client.processing()) > 1:\n",
    "    pass"
   ]
  }
 ],
 "metadata": {
  "kernelspec": {
   "display_name": "Python 3",
   "language": "python",
   "name": "python3"
  },
  "language_info": {
   "codemirror_mode": {
    "name": "ipython",
    "version": 3
   },
   "file_extension": ".py",
   "mimetype": "text/x-python",
   "name": "python",
   "nbconvert_exporter": "python",
   "pygments_lexer": "ipython3",
   "version": "3.6.4"
  }
 },
 "nbformat": 4,
 "nbformat_minor": 2
}
